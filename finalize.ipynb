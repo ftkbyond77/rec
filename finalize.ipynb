{
 "cells": [
  {
   "cell_type": "code",
   "execution_count": 2,
   "id": "32987a1b",
   "metadata": {},
   "outputs": [],
   "source": [
    "import pandas as pd"
   ]
  },
  {
   "cell_type": "code",
   "execution_count": 3,
   "id": "ee09a8d7",
   "metadata": {},
   "outputs": [
    {
     "name": "stdout",
     "output_type": "stream",
     "text": [
      "Summary written to 'sentiment_analysis_summary.txt'\n",
      "Process complete! Files saved: 'reviews_with_bert_sentiment.json', 'reviews_with_bert_sentiment.csv', 'sentiment_score_kde.png'\n"
     ]
    }
   ],
   "source": [
    "# Load the DataFrame from CSV\n",
    "df = pd.read_csv('reviews_with_bert_sentiment.csv')\n",
    "\n",
    "# Generate a summary\n",
    "total_reviews = len(df)\n",
    "star_counts = df['sentiment_stars'].value_counts().sort_index()\n",
    "average_score = df['sentiment_score'].mean() if not df['sentiment_score'].isna().all() else 0\n",
    "\n",
    "# Write summary to a text file\n",
    "with open('sentiment_analysis_summary.txt', 'w') as file:\n",
    "    file.write(\"Amazon Review Sentiment Analysis Summary\\n\")\n",
    "    file.write(f\"- Total Reviews: {total_reviews}\\n\")\n",
    "    file.write(\"- Sentiment Distribution:\\n\")\n",
    "    for stars, count in star_counts.items():\n",
    "        percentage = (count / total_reviews) * 100 if total_reviews > 0 else 0\n",
    "        file.write(f\"  - {stars} Star(s): {count} reviews ({percentage:.1f}%)\\n\")\n",
    "    file.write(f\"- Average Confidence Score: {average_score:.3f}\\n\")\n",
    "    file.write(\"- Notes: Check for missing sentiment values; consider scaling with more data.\\n\")\n",
    "\n",
    "print(\"Summary written to 'sentiment_analysis_summary.txt'\")\n",
    "print(\"Process complete! Files saved: 'reviews_with_bert_sentiment.json', 'reviews_with_bert_sentiment.csv', 'sentiment_score_kde.png'\")"
   ]
  },
  {
   "cell_type": "code",
   "execution_count": null,
   "id": "195dcd60",
   "metadata": {},
   "outputs": [],
   "source": []
  }
 ],
 "metadata": {
  "kernelspec": {
   "display_name": "base",
   "language": "python",
   "name": "python3"
  },
  "language_info": {
   "codemirror_mode": {
    "name": "ipython",
    "version": 3
   },
   "file_extension": ".py",
   "mimetype": "text/x-python",
   "name": "python",
   "nbconvert_exporter": "python",
   "pygments_lexer": "ipython3",
   "version": "3.11.4"
  }
 },
 "nbformat": 4,
 "nbformat_minor": 5
}
